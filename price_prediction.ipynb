{
 "cells": [
  {
   "cell_type": "markdown",
   "id": "bed5af67",
   "metadata": {},
   "source": [
    "# Kütüphaneler"
   ]
  },
  {
   "cell_type": "code",
   "execution_count": 1,
   "id": "5f7bb629",
   "metadata": {},
   "outputs": [],
   "source": [
    "import pandas as pd\n",
    "import numpy as np\n",
    "import ast\n",
    "import matplotlib.pyplot as plt \n",
    "import seaborn as sns\n",
    "import warnings\n",
    "warnings.filterwarnings(\"ignore\")"
   ]
  },
  {
   "cell_type": "markdown",
   "id": "e3fc36d0",
   "metadata": {},
   "source": [
    "# Verinin okuma ve tanıma"
   ]
  },
  {
   "cell_type": "code",
   "execution_count": 2,
   "id": "ce9e0e4c",
   "metadata": {},
   "outputs": [
    {
     "data": {
      "text/html": [
       "<div>\n",
       "<style scoped>\n",
       "    .dataframe tbody tr th:only-of-type {\n",
       "        vertical-align: middle;\n",
       "    }\n",
       "\n",
       "    .dataframe tbody tr th {\n",
       "        vertical-align: top;\n",
       "    }\n",
       "\n",
       "    .dataframe thead th {\n",
       "        text-align: right;\n",
       "    }\n",
       "</style>\n",
       "<table border=\"1\" class=\"dataframe\">\n",
       "  <thead>\n",
       "    <tr style=\"text-align: right;\">\n",
       "      <th></th>\n",
       "      <th>ilan_id</th>\n",
       "      <th>ilan_basligi</th>\n",
       "      <th>fiyat</th>\n",
       "      <th>fiyat_kuru</th>\n",
       "      <th>ilan_tarihi</th>\n",
       "      <th>ilan_kategorisi</th>\n",
       "      <th>arac_tagleri</th>\n",
       "      <th>ilan_konumu</th>\n",
       "      <th>arac_ozellikleri</th>\n",
       "    </tr>\n",
       "  </thead>\n",
       "  <tbody>\n",
       "    <tr>\n",
       "      <th>0</th>\n",
       "      <td>1080850207</td>\n",
       "      <td>DEĞİŞENSİZ YENİ MUAYENELİ RENAULT MEGANE FUL D...</td>\n",
       "      <td>830000.0</td>\n",
       "      <td>TL</td>\n",
       "      <td>2023-05-26 09:23:29.000000</td>\n",
       "      <td>[{'id': 3517, 'label': 'Vasıta'}, {'id': 3530,...</td>\n",
       "      <td>{'Model': '1.5 dCi Icon', 'Marka': 'Renault', ...</td>\n",
       "      <td>İstanbul, Ümraniye</td>\n",
       "      <td>['143.000 km', '2016 model', 'Dizel', '110 hp'...</td>\n",
       "    </tr>\n",
       "    <tr>\n",
       "      <th>1</th>\n",
       "      <td>1101850722</td>\n",
       "      <td>KAZA,BOYA,DEĞİŞEN,TRAMER YOK. 80.000 km.</td>\n",
       "      <td>905000.0</td>\n",
       "      <td>TL</td>\n",
       "      <td>2023-05-26 09:23:13.000000</td>\n",
       "      <td>[{'id': 3517, 'label': 'Vasıta'}, {'id': 3530,...</td>\n",
       "      <td>{'Model': '1.5 dCi Icon', 'Marka': 'Renault', ...</td>\n",
       "      <td>İzmir, Konak</td>\n",
       "      <td>['80.000 km', '2017 model', 'Dizel', '110 hp',...</td>\n",
       "    </tr>\n",
       "    <tr>\n",
       "      <th>2</th>\n",
       "      <td>1101855061</td>\n",
       "      <td>HATASIZ AYARINDA MASRAFSIZ AUDİ A3</td>\n",
       "      <td>695000.0</td>\n",
       "      <td>TL</td>\n",
       "      <td>2023-05-26 09:22:58.000000</td>\n",
       "      <td>[{'id': 3517, 'label': 'Vasıta'}, {'id': 3530,...</td>\n",
       "      <td>{'Model': 'A3 Sportback 1.6', 'Marka': 'Audi',...</td>\n",
       "      <td>Adana, Seyhan</td>\n",
       "      <td>['177.000 km', '2011 model', 'Benzin &amp; LPG', '...</td>\n",
       "    </tr>\n",
       "    <tr>\n",
       "      <th>3</th>\n",
       "      <td>1101851921</td>\n",
       "      <td>2020/A3 35 1.5 TFSİ/150 DESIGN+STRONIC PKT-SUN...</td>\n",
       "      <td>1380000.0</td>\n",
       "      <td>TL</td>\n",
       "      <td>2023-05-26 09:22:35.000000</td>\n",
       "      <td>[{'id': 3517, 'label': 'Vasıta'}, {'id': 3530,...</td>\n",
       "      <td>{'Model': 'A3 Sedan 35 TFSI', 'Marka': 'Audi',...</td>\n",
       "      <td>İstanbul, Sarıyer</td>\n",
       "      <td>['33.000 km', '2020 model', 'Benzin', '150 hp'...</td>\n",
       "    </tr>\n",
       "    <tr>\n",
       "      <th>4</th>\n",
       "      <td>1090594643</td>\n",
       "      <td>2015 MODEL</td>\n",
       "      <td>530000.0</td>\n",
       "      <td>TL</td>\n",
       "      <td>2023-05-26 09:21:55.000000</td>\n",
       "      <td>[{'id': 3517, 'label': 'Vasıta'}, {'id': 3530,...</td>\n",
       "      <td>{'Model': '1.4 TDI Trendline', 'Marka': 'Volks...</td>\n",
       "      <td>Kırklareli, Lüleburgaz</td>\n",
       "      <td>['125.000 km', '2015 model', 'Dizel', '75 hp',...</td>\n",
       "    </tr>\n",
       "  </tbody>\n",
       "</table>\n",
       "</div>"
      ],
      "text/plain": [
       "      ilan_id                                       ilan_basligi      fiyat  \\\n",
       "0  1080850207  DEĞİŞENSİZ YENİ MUAYENELİ RENAULT MEGANE FUL D...   830000.0   \n",
       "1  1101850722           KAZA,BOYA,DEĞİŞEN,TRAMER YOK. 80.000 km.   905000.0   \n",
       "2  1101855061                 HATASIZ AYARINDA MASRAFSIZ AUDİ A3   695000.0   \n",
       "3  1101851921  2020/A3 35 1.5 TFSİ/150 DESIGN+STRONIC PKT-SUN...  1380000.0   \n",
       "4  1090594643                                         2015 MODEL   530000.0   \n",
       "\n",
       "  fiyat_kuru                 ilan_tarihi  \\\n",
       "0         TL  2023-05-26 09:23:29.000000   \n",
       "1         TL  2023-05-26 09:23:13.000000   \n",
       "2         TL  2023-05-26 09:22:58.000000   \n",
       "3         TL  2023-05-26 09:22:35.000000   \n",
       "4         TL  2023-05-26 09:21:55.000000   \n",
       "\n",
       "                                     ilan_kategorisi  \\\n",
       "0  [{'id': 3517, 'label': 'Vasıta'}, {'id': 3530,...   \n",
       "1  [{'id': 3517, 'label': 'Vasıta'}, {'id': 3530,...   \n",
       "2  [{'id': 3517, 'label': 'Vasıta'}, {'id': 3530,...   \n",
       "3  [{'id': 3517, 'label': 'Vasıta'}, {'id': 3530,...   \n",
       "4  [{'id': 3517, 'label': 'Vasıta'}, {'id': 3530,...   \n",
       "\n",
       "                                        arac_tagleri             ilan_konumu  \\\n",
       "0  {'Model': '1.5 dCi Icon', 'Marka': 'Renault', ...      İstanbul, Ümraniye   \n",
       "1  {'Model': '1.5 dCi Icon', 'Marka': 'Renault', ...            İzmir, Konak   \n",
       "2  {'Model': 'A3 Sportback 1.6', 'Marka': 'Audi',...           Adana, Seyhan   \n",
       "3  {'Model': 'A3 Sedan 35 TFSI', 'Marka': 'Audi',...       İstanbul, Sarıyer   \n",
       "4  {'Model': '1.4 TDI Trendline', 'Marka': 'Volks...  Kırklareli, Lüleburgaz   \n",
       "\n",
       "                                    arac_ozellikleri  \n",
       "0  ['143.000 km', '2016 model', 'Dizel', '110 hp'...  \n",
       "1  ['80.000 km', '2017 model', 'Dizel', '110 hp',...  \n",
       "2  ['177.000 km', '2011 model', 'Benzin & LPG', '...  \n",
       "3  ['33.000 km', '2020 model', 'Benzin', '150 hp'...  \n",
       "4  ['125.000 km', '2015 model', 'Dizel', '75 hp',...  "
      ]
     },
     "execution_count": 2,
     "metadata": {},
     "output_type": "execute_result"
    }
   ],
   "source": [
    "veri = pd.read_csv('arac_ilanlari.csv')\n",
    "veri.head()"
   ]
  },
  {
   "cell_type": "code",
   "execution_count": 3,
   "id": "6f5a1306",
   "metadata": {},
   "outputs": [
    {
     "name": "stdout",
     "output_type": "stream",
     "text": [
      "<class 'pandas.core.frame.DataFrame'>\n",
      "RangeIndex: 556756 entries, 0 to 556755\n",
      "Data columns (total 9 columns):\n",
      " #   Column            Non-Null Count   Dtype  \n",
      "---  ------            --------------   -----  \n",
      " 0   ilan_id           556756 non-null  int64  \n",
      " 1   ilan_basligi      556756 non-null  object \n",
      " 2   fiyat             556756 non-null  float64\n",
      " 3   fiyat_kuru        556756 non-null  object \n",
      " 4   ilan_tarihi       556756 non-null  object \n",
      " 5   ilan_kategorisi   556756 non-null  object \n",
      " 6   arac_tagleri      556756 non-null  object \n",
      " 7   ilan_konumu       556756 non-null  object \n",
      " 8   arac_ozellikleri  556756 non-null  object \n",
      "dtypes: float64(1), int64(1), object(7)\n",
      "memory usage: 38.2+ MB\n"
     ]
    }
   ],
   "source": [
    "veri.info()"
   ]
  },
  {
   "cell_type": "markdown",
   "id": "0cf1e0e2",
   "metadata": {},
   "source": [
    "# Verileri Düzenleme"
   ]
  },
  {
   "cell_type": "code",
   "execution_count": 4,
   "id": "8d229bce",
   "metadata": {},
   "outputs": [],
   "source": [
    "veri['arac_tagleri'] = veri['arac_tagleri'].apply(ast.literal_eval)\n",
    "\n",
    "veri[['Model', 'Marka', 'Seri']] = pd.DataFrame(veri['arac_tagleri'].tolist(), index=veri.index)"
   ]
  },
  {
   "cell_type": "code",
   "execution_count": 5,
   "id": "e3c6269d",
   "metadata": {},
   "outputs": [],
   "source": [
    "veri['arac_ozellikleri'] = veri['arac_ozellikleri'].apply(ast.literal_eval)\n",
    "\n",
    "veri[['Km', '_Yil', 'Yakit', 'Güc', 'Tipi',]] = pd.DataFrame(veri['arac_ozellikleri'].tolist(), index=veri.index)"
   ]
  },
  {
   "cell_type": "code",
   "execution_count": 6,
   "id": "503d8822",
   "metadata": {},
   "outputs": [],
   "source": [
    "veri['Km'] = veri['Km'].str.replace(' km', '', case=False)\n",
    "veri['_Yil'] = veri['_Yil'].str.replace(' model', '', case=False)\n",
    "veri['Güc'] = veri['Güc'].str.replace(' hp', '', case=False)"
   ]
  },
  {
   "cell_type": "code",
   "execution_count": 7,
   "id": "7d8e31e7",
   "metadata": {},
   "outputs": [],
   "source": [
    "veri['Km'] = veri['Km'].str.replace('.', '').astype(float)\n",
    "veri['_Yil'] = veri['_Yil'].str.replace('.', '').astype(float)"
   ]
  },
  {
   "cell_type": "code",
   "execution_count": 8,
   "id": "6992ccc1",
   "metadata": {},
   "outputs": [],
   "source": [
    "def parse_power(value):\n",
    "    if pd.isna(value): \n",
    "        return 0  \n",
    "\n",
    "    parts = value.split('-')\n",
    "    if len(parts) > 1:\n",
    "        parsed_value = parts[1].split()[0]  \n",
    "        parsed_value = ''.join(filter(str.isdigit, parsed_value))  \n",
    "        if parsed_value.isdigit():\n",
    "            return int(parsed_value)\n",
    "    else:\n",
    "        parsed_value = value.split()[0]\n",
    "        parsed_value = ''.join(filter(str.isdigit, parsed_value))\n",
    "        if parsed_value.isdigit():\n",
    "            return int(parsed_value)\n",
    "    \n",
    "    \n",
    "    return 0  \n",
    "\n",
    "veri['Güc'] = veri['Güc'].apply(parse_power).astype(\"float\")"
   ]
  },
  {
   "cell_type": "code",
   "execution_count": 9,
   "id": "a988c152",
   "metadata": {},
   "outputs": [],
   "source": [
    "veri['silindir_hacmi'] = veri.apply(lambda row: '1.5' if row['Marka'] == 'Audi' and row['Model'].split()[2] == '35'\n",
    "                                    else ('1.0' if row['Marka'] == 'Audi' and row['Model'].split()[2] == '30' \n",
    "                                    else (row['Model'].split()[2] if row['Marka'] == 'Audi' \n",
    "                                    else row['Model'][:3])), axis=1)\n",
    "veri.loc[veri[\"silindir_hacmi\"] == \"Exc\" , \"silindir_hacmi\"] = 1.5\n",
    "veri.loc[veri[\"silindir_hacmi\"] == \"Aut\", \"silindir_hacmi\"] = 1.5\n",
    "veri.loc[veri[\"silindir_hacmi\"] == \"Joy\", \"silindir_hacmi\"] = 1.3\n",
    "veri[\"silindir_hacmi\"]=veri[\"silindir_hacmi\"].astype(\"float\")"
   ]
  },
  {
   "cell_type": "code",
   "execution_count": 10,
   "id": "1ca854b2",
   "metadata": {},
   "outputs": [
    {
     "data": {
      "text/html": [
       "<div>\n",
       "<style scoped>\n",
       "    .dataframe tbody tr th:only-of-type {\n",
       "        vertical-align: middle;\n",
       "    }\n",
       "\n",
       "    .dataframe tbody tr th {\n",
       "        vertical-align: top;\n",
       "    }\n",
       "\n",
       "    .dataframe thead th {\n",
       "        text-align: right;\n",
       "    }\n",
       "</style>\n",
       "<table border=\"1\" class=\"dataframe\">\n",
       "  <thead>\n",
       "    <tr style=\"text-align: right;\">\n",
       "      <th></th>\n",
       "      <th>ilan_id</th>\n",
       "      <th>ilan_basligi</th>\n",
       "      <th>fiyat</th>\n",
       "      <th>fiyat_kuru</th>\n",
       "      <th>ilan_tarihi</th>\n",
       "      <th>ilan_kategorisi</th>\n",
       "      <th>arac_tagleri</th>\n",
       "      <th>ilan_konumu</th>\n",
       "      <th>arac_ozellikleri</th>\n",
       "      <th>Model</th>\n",
       "      <th>Marka</th>\n",
       "      <th>Seri</th>\n",
       "      <th>Km</th>\n",
       "      <th>_Yil</th>\n",
       "      <th>Yakit</th>\n",
       "      <th>Güc</th>\n",
       "      <th>Tipi</th>\n",
       "      <th>silindir_hacmi</th>\n",
       "    </tr>\n",
       "  </thead>\n",
       "  <tbody>\n",
       "    <tr>\n",
       "      <th>0</th>\n",
       "      <td>1080850207</td>\n",
       "      <td>DEĞİŞENSİZ YENİ MUAYENELİ RENAULT MEGANE FUL D...</td>\n",
       "      <td>830000.0</td>\n",
       "      <td>TL</td>\n",
       "      <td>2023-05-26 09:23:29.000000</td>\n",
       "      <td>[{'id': 3517, 'label': 'Vasıta'}, {'id': 3530,...</td>\n",
       "      <td>{'Model': '1.5 dCi Icon', 'Marka': 'Renault', ...</td>\n",
       "      <td>İstanbul, Ümraniye</td>\n",
       "      <td>[143.000 km, 2016 model, Dizel, 110 hp, Otomatik]</td>\n",
       "      <td>1.5 dCi Icon</td>\n",
       "      <td>Renault</td>\n",
       "      <td>Megane</td>\n",
       "      <td>143000.0</td>\n",
       "      <td>2016.0</td>\n",
       "      <td>Dizel</td>\n",
       "      <td>110.0</td>\n",
       "      <td>Otomatik</td>\n",
       "      <td>1.5</td>\n",
       "    </tr>\n",
       "    <tr>\n",
       "      <th>1</th>\n",
       "      <td>1101850722</td>\n",
       "      <td>KAZA,BOYA,DEĞİŞEN,TRAMER YOK. 80.000 km.</td>\n",
       "      <td>905000.0</td>\n",
       "      <td>TL</td>\n",
       "      <td>2023-05-26 09:23:13.000000</td>\n",
       "      <td>[{'id': 3517, 'label': 'Vasıta'}, {'id': 3530,...</td>\n",
       "      <td>{'Model': '1.5 dCi Icon', 'Marka': 'Renault', ...</td>\n",
       "      <td>İzmir, Konak</td>\n",
       "      <td>[80.000 km, 2017 model, Dizel, 110 hp, Otomatik]</td>\n",
       "      <td>1.5 dCi Icon</td>\n",
       "      <td>Renault</td>\n",
       "      <td>Megane</td>\n",
       "      <td>80000.0</td>\n",
       "      <td>2017.0</td>\n",
       "      <td>Dizel</td>\n",
       "      <td>110.0</td>\n",
       "      <td>Otomatik</td>\n",
       "      <td>1.5</td>\n",
       "    </tr>\n",
       "    <tr>\n",
       "      <th>2</th>\n",
       "      <td>1101855061</td>\n",
       "      <td>HATASIZ AYARINDA MASRAFSIZ AUDİ A3</td>\n",
       "      <td>695000.0</td>\n",
       "      <td>TL</td>\n",
       "      <td>2023-05-26 09:22:58.000000</td>\n",
       "      <td>[{'id': 3517, 'label': 'Vasıta'}, {'id': 3530,...</td>\n",
       "      <td>{'Model': 'A3 Sportback 1.6', 'Marka': 'Audi',...</td>\n",
       "      <td>Adana, Seyhan</td>\n",
       "      <td>[177.000 km, 2011 model, Benzin &amp; LPG, 102 hp,...</td>\n",
       "      <td>A3 Sportback 1.6</td>\n",
       "      <td>Audi</td>\n",
       "      <td>A3</td>\n",
       "      <td>177000.0</td>\n",
       "      <td>2011.0</td>\n",
       "      <td>Benzin &amp; LPG</td>\n",
       "      <td>102.0</td>\n",
       "      <td>Manuel</td>\n",
       "      <td>1.6</td>\n",
       "    </tr>\n",
       "    <tr>\n",
       "      <th>3</th>\n",
       "      <td>1101851921</td>\n",
       "      <td>2020/A3 35 1.5 TFSİ/150 DESIGN+STRONIC PKT-SUN...</td>\n",
       "      <td>1380000.0</td>\n",
       "      <td>TL</td>\n",
       "      <td>2023-05-26 09:22:35.000000</td>\n",
       "      <td>[{'id': 3517, 'label': 'Vasıta'}, {'id': 3530,...</td>\n",
       "      <td>{'Model': 'A3 Sedan 35 TFSI', 'Marka': 'Audi',...</td>\n",
       "      <td>İstanbul, Sarıyer</td>\n",
       "      <td>[33.000 km, 2020 model, Benzin, 150 hp, Otomatik]</td>\n",
       "      <td>A3 Sedan 35 TFSI</td>\n",
       "      <td>Audi</td>\n",
       "      <td>A3</td>\n",
       "      <td>33000.0</td>\n",
       "      <td>2020.0</td>\n",
       "      <td>Benzin</td>\n",
       "      <td>150.0</td>\n",
       "      <td>Otomatik</td>\n",
       "      <td>1.5</td>\n",
       "    </tr>\n",
       "    <tr>\n",
       "      <th>4</th>\n",
       "      <td>1090594643</td>\n",
       "      <td>2015 MODEL</td>\n",
       "      <td>530000.0</td>\n",
       "      <td>TL</td>\n",
       "      <td>2023-05-26 09:21:55.000000</td>\n",
       "      <td>[{'id': 3517, 'label': 'Vasıta'}, {'id': 3530,...</td>\n",
       "      <td>{'Model': '1.4 TDI Trendline', 'Marka': 'Volks...</td>\n",
       "      <td>Kırklareli, Lüleburgaz</td>\n",
       "      <td>[125.000 km, 2015 model, Dizel, 75 hp, Manuel]</td>\n",
       "      <td>1.4 TDI Trendline</td>\n",
       "      <td>Volkswagen</td>\n",
       "      <td>Polo</td>\n",
       "      <td>125000.0</td>\n",
       "      <td>2015.0</td>\n",
       "      <td>Dizel</td>\n",
       "      <td>75.0</td>\n",
       "      <td>Manuel</td>\n",
       "      <td>1.4</td>\n",
       "    </tr>\n",
       "  </tbody>\n",
       "</table>\n",
       "</div>"
      ],
      "text/plain": [
       "      ilan_id                                       ilan_basligi      fiyat  \\\n",
       "0  1080850207  DEĞİŞENSİZ YENİ MUAYENELİ RENAULT MEGANE FUL D...   830000.0   \n",
       "1  1101850722           KAZA,BOYA,DEĞİŞEN,TRAMER YOK. 80.000 km.   905000.0   \n",
       "2  1101855061                 HATASIZ AYARINDA MASRAFSIZ AUDİ A3   695000.0   \n",
       "3  1101851921  2020/A3 35 1.5 TFSİ/150 DESIGN+STRONIC PKT-SUN...  1380000.0   \n",
       "4  1090594643                                         2015 MODEL   530000.0   \n",
       "\n",
       "  fiyat_kuru                 ilan_tarihi  \\\n",
       "0         TL  2023-05-26 09:23:29.000000   \n",
       "1         TL  2023-05-26 09:23:13.000000   \n",
       "2         TL  2023-05-26 09:22:58.000000   \n",
       "3         TL  2023-05-26 09:22:35.000000   \n",
       "4         TL  2023-05-26 09:21:55.000000   \n",
       "\n",
       "                                     ilan_kategorisi  \\\n",
       "0  [{'id': 3517, 'label': 'Vasıta'}, {'id': 3530,...   \n",
       "1  [{'id': 3517, 'label': 'Vasıta'}, {'id': 3530,...   \n",
       "2  [{'id': 3517, 'label': 'Vasıta'}, {'id': 3530,...   \n",
       "3  [{'id': 3517, 'label': 'Vasıta'}, {'id': 3530,...   \n",
       "4  [{'id': 3517, 'label': 'Vasıta'}, {'id': 3530,...   \n",
       "\n",
       "                                        arac_tagleri             ilan_konumu  \\\n",
       "0  {'Model': '1.5 dCi Icon', 'Marka': 'Renault', ...      İstanbul, Ümraniye   \n",
       "1  {'Model': '1.5 dCi Icon', 'Marka': 'Renault', ...            İzmir, Konak   \n",
       "2  {'Model': 'A3 Sportback 1.6', 'Marka': 'Audi',...           Adana, Seyhan   \n",
       "3  {'Model': 'A3 Sedan 35 TFSI', 'Marka': 'Audi',...       İstanbul, Sarıyer   \n",
       "4  {'Model': '1.4 TDI Trendline', 'Marka': 'Volks...  Kırklareli, Lüleburgaz   \n",
       "\n",
       "                                    arac_ozellikleri              Model  \\\n",
       "0  [143.000 km, 2016 model, Dizel, 110 hp, Otomatik]       1.5 dCi Icon   \n",
       "1   [80.000 km, 2017 model, Dizel, 110 hp, Otomatik]       1.5 dCi Icon   \n",
       "2  [177.000 km, 2011 model, Benzin & LPG, 102 hp,...   A3 Sportback 1.6   \n",
       "3  [33.000 km, 2020 model, Benzin, 150 hp, Otomatik]   A3 Sedan 35 TFSI   \n",
       "4     [125.000 km, 2015 model, Dizel, 75 hp, Manuel]  1.4 TDI Trendline   \n",
       "\n",
       "        Marka    Seri        Km    _Yil         Yakit    Güc      Tipi  \\\n",
       "0     Renault  Megane  143000.0  2016.0         Dizel  110.0  Otomatik   \n",
       "1     Renault  Megane   80000.0  2017.0         Dizel  110.0  Otomatik   \n",
       "2        Audi      A3  177000.0  2011.0  Benzin & LPG  102.0    Manuel   \n",
       "3        Audi      A3   33000.0  2020.0        Benzin  150.0  Otomatik   \n",
       "4  Volkswagen    Polo  125000.0  2015.0         Dizel   75.0    Manuel   \n",
       "\n",
       "   silindir_hacmi  \n",
       "0             1.5  \n",
       "1             1.5  \n",
       "2             1.6  \n",
       "3             1.5  \n",
       "4             1.4  "
      ]
     },
     "execution_count": 10,
     "metadata": {},
     "output_type": "execute_result"
    }
   ],
   "source": [
    "veri.head()"
   ]
  },
  {
   "cell_type": "markdown",
   "id": "65828bb4",
   "metadata": {},
   "source": [
    "# Gereksiz sütunları kaldırma"
   ]
  },
  {
   "cell_type": "code",
   "execution_count": 11,
   "id": "ce821dd4",
   "metadata": {},
   "outputs": [
    {
     "data": {
      "text/html": [
       "<div>\n",
       "<style scoped>\n",
       "    .dataframe tbody tr th:only-of-type {\n",
       "        vertical-align: middle;\n",
       "    }\n",
       "\n",
       "    .dataframe tbody tr th {\n",
       "        vertical-align: top;\n",
       "    }\n",
       "\n",
       "    .dataframe thead th {\n",
       "        text-align: right;\n",
       "    }\n",
       "</style>\n",
       "<table border=\"1\" class=\"dataframe\">\n",
       "  <thead>\n",
       "    <tr style=\"text-align: right;\">\n",
       "      <th></th>\n",
       "      <th>fiyat</th>\n",
       "      <th>ilan_tarihi</th>\n",
       "      <th>ilan_konumu</th>\n",
       "      <th>Marka</th>\n",
       "      <th>Seri</th>\n",
       "      <th>Km</th>\n",
       "      <th>_Yil</th>\n",
       "      <th>Yakit</th>\n",
       "      <th>Güc</th>\n",
       "      <th>Tipi</th>\n",
       "      <th>silindir_hacmi</th>\n",
       "    </tr>\n",
       "  </thead>\n",
       "  <tbody>\n",
       "    <tr>\n",
       "      <th>0</th>\n",
       "      <td>830000.0</td>\n",
       "      <td>2023-05-26 09:23:29.000000</td>\n",
       "      <td>İstanbul, Ümraniye</td>\n",
       "      <td>Renault</td>\n",
       "      <td>Megane</td>\n",
       "      <td>143000.0</td>\n",
       "      <td>2016.0</td>\n",
       "      <td>Dizel</td>\n",
       "      <td>110.0</td>\n",
       "      <td>Otomatik</td>\n",
       "      <td>1.5</td>\n",
       "    </tr>\n",
       "    <tr>\n",
       "      <th>1</th>\n",
       "      <td>905000.0</td>\n",
       "      <td>2023-05-26 09:23:13.000000</td>\n",
       "      <td>İzmir, Konak</td>\n",
       "      <td>Renault</td>\n",
       "      <td>Megane</td>\n",
       "      <td>80000.0</td>\n",
       "      <td>2017.0</td>\n",
       "      <td>Dizel</td>\n",
       "      <td>110.0</td>\n",
       "      <td>Otomatik</td>\n",
       "      <td>1.5</td>\n",
       "    </tr>\n",
       "    <tr>\n",
       "      <th>2</th>\n",
       "      <td>695000.0</td>\n",
       "      <td>2023-05-26 09:22:58.000000</td>\n",
       "      <td>Adana, Seyhan</td>\n",
       "      <td>Audi</td>\n",
       "      <td>A3</td>\n",
       "      <td>177000.0</td>\n",
       "      <td>2011.0</td>\n",
       "      <td>Benzin &amp; LPG</td>\n",
       "      <td>102.0</td>\n",
       "      <td>Manuel</td>\n",
       "      <td>1.6</td>\n",
       "    </tr>\n",
       "    <tr>\n",
       "      <th>3</th>\n",
       "      <td>1380000.0</td>\n",
       "      <td>2023-05-26 09:22:35.000000</td>\n",
       "      <td>İstanbul, Sarıyer</td>\n",
       "      <td>Audi</td>\n",
       "      <td>A3</td>\n",
       "      <td>33000.0</td>\n",
       "      <td>2020.0</td>\n",
       "      <td>Benzin</td>\n",
       "      <td>150.0</td>\n",
       "      <td>Otomatik</td>\n",
       "      <td>1.5</td>\n",
       "    </tr>\n",
       "    <tr>\n",
       "      <th>4</th>\n",
       "      <td>530000.0</td>\n",
       "      <td>2023-05-26 09:21:55.000000</td>\n",
       "      <td>Kırklareli, Lüleburgaz</td>\n",
       "      <td>Volkswagen</td>\n",
       "      <td>Polo</td>\n",
       "      <td>125000.0</td>\n",
       "      <td>2015.0</td>\n",
       "      <td>Dizel</td>\n",
       "      <td>75.0</td>\n",
       "      <td>Manuel</td>\n",
       "      <td>1.4</td>\n",
       "    </tr>\n",
       "  </tbody>\n",
       "</table>\n",
       "</div>"
      ],
      "text/plain": [
       "       fiyat                 ilan_tarihi             ilan_konumu       Marka  \\\n",
       "0   830000.0  2023-05-26 09:23:29.000000      İstanbul, Ümraniye     Renault   \n",
       "1   905000.0  2023-05-26 09:23:13.000000            İzmir, Konak     Renault   \n",
       "2   695000.0  2023-05-26 09:22:58.000000           Adana, Seyhan        Audi   \n",
       "3  1380000.0  2023-05-26 09:22:35.000000       İstanbul, Sarıyer        Audi   \n",
       "4   530000.0  2023-05-26 09:21:55.000000  Kırklareli, Lüleburgaz  Volkswagen   \n",
       "\n",
       "     Seri        Km    _Yil         Yakit    Güc      Tipi  silindir_hacmi  \n",
       "0  Megane  143000.0  2016.0         Dizel  110.0  Otomatik             1.5  \n",
       "1  Megane   80000.0  2017.0         Dizel  110.0  Otomatik             1.5  \n",
       "2      A3  177000.0  2011.0  Benzin & LPG  102.0    Manuel             1.6  \n",
       "3      A3   33000.0  2020.0        Benzin  150.0  Otomatik             1.5  \n",
       "4    Polo  125000.0  2015.0         Dizel   75.0    Manuel             1.4  "
      ]
     },
     "execution_count": 11,
     "metadata": {},
     "output_type": "execute_result"
    }
   ],
   "source": [
    "veri = veri.drop(['ilan_id', 'ilan_basligi', 'fiyat_kuru', 'ilan_kategorisi', 'arac_tagleri', 'arac_ozellikleri','Model'], axis=1)\n",
    "veri.head()"
   ]
  },
  {
   "cell_type": "markdown",
   "id": "026abcb3",
   "metadata": {},
   "source": [
    "# HeatMap"
   ]
  },
  {
   "cell_type": "code",
   "execution_count": 12,
   "id": "83db3c07",
   "metadata": {},
   "outputs": [
    {
     "data": {
      "text/html": [
       "<div>\n",
       "<style scoped>\n",
       "    .dataframe tbody tr th:only-of-type {\n",
       "        vertical-align: middle;\n",
       "    }\n",
       "\n",
       "    .dataframe tbody tr th {\n",
       "        vertical-align: top;\n",
       "    }\n",
       "\n",
       "    .dataframe thead th {\n",
       "        text-align: right;\n",
       "    }\n",
       "</style>\n",
       "<table border=\"1\" class=\"dataframe\">\n",
       "  <thead>\n",
       "    <tr style=\"text-align: right;\">\n",
       "      <th></th>\n",
       "      <th>fiyat</th>\n",
       "      <th>ilan_tarihi</th>\n",
       "      <th>ilan_konumu</th>\n",
       "      <th>Marka</th>\n",
       "      <th>Seri</th>\n",
       "      <th>Km</th>\n",
       "      <th>_Yil</th>\n",
       "      <th>Yakit</th>\n",
       "      <th>Güc</th>\n",
       "      <th>Tipi</th>\n",
       "      <th>silindir_hacmi</th>\n",
       "    </tr>\n",
       "  </thead>\n",
       "  <tbody>\n",
       "    <tr>\n",
       "      <th>0</th>\n",
       "      <td>830000.0</td>\n",
       "      <td>2023-05-26 09:23:29.000000</td>\n",
       "      <td>İstanbul, Ümraniye</td>\n",
       "      <td>Renault</td>\n",
       "      <td>Megane</td>\n",
       "      <td>143000.0</td>\n",
       "      <td>2016.0</td>\n",
       "      <td>Dizel</td>\n",
       "      <td>110.0</td>\n",
       "      <td>Otomatik</td>\n",
       "      <td>1.5</td>\n",
       "    </tr>\n",
       "    <tr>\n",
       "      <th>1</th>\n",
       "      <td>905000.0</td>\n",
       "      <td>2023-05-26 09:23:13.000000</td>\n",
       "      <td>İzmir, Konak</td>\n",
       "      <td>Renault</td>\n",
       "      <td>Megane</td>\n",
       "      <td>80000.0</td>\n",
       "      <td>2017.0</td>\n",
       "      <td>Dizel</td>\n",
       "      <td>110.0</td>\n",
       "      <td>Otomatik</td>\n",
       "      <td>1.5</td>\n",
       "    </tr>\n",
       "    <tr>\n",
       "      <th>2</th>\n",
       "      <td>695000.0</td>\n",
       "      <td>2023-05-26 09:22:58.000000</td>\n",
       "      <td>Adana, Seyhan</td>\n",
       "      <td>Audi</td>\n",
       "      <td>A3</td>\n",
       "      <td>177000.0</td>\n",
       "      <td>2011.0</td>\n",
       "      <td>Benzin &amp; LPG</td>\n",
       "      <td>102.0</td>\n",
       "      <td>Manuel</td>\n",
       "      <td>1.6</td>\n",
       "    </tr>\n",
       "    <tr>\n",
       "      <th>3</th>\n",
       "      <td>1380000.0</td>\n",
       "      <td>2023-05-26 09:22:35.000000</td>\n",
       "      <td>İstanbul, Sarıyer</td>\n",
       "      <td>Audi</td>\n",
       "      <td>A3</td>\n",
       "      <td>33000.0</td>\n",
       "      <td>2020.0</td>\n",
       "      <td>Benzin</td>\n",
       "      <td>150.0</td>\n",
       "      <td>Otomatik</td>\n",
       "      <td>1.5</td>\n",
       "    </tr>\n",
       "    <tr>\n",
       "      <th>4</th>\n",
       "      <td>530000.0</td>\n",
       "      <td>2023-05-26 09:21:55.000000</td>\n",
       "      <td>Kırklareli, Lüleburgaz</td>\n",
       "      <td>Volkswagen</td>\n",
       "      <td>Polo</td>\n",
       "      <td>125000.0</td>\n",
       "      <td>2015.0</td>\n",
       "      <td>Dizel</td>\n",
       "      <td>75.0</td>\n",
       "      <td>Manuel</td>\n",
       "      <td>1.4</td>\n",
       "    </tr>\n",
       "  </tbody>\n",
       "</table>\n",
       "</div>"
      ],
      "text/plain": [
       "       fiyat                 ilan_tarihi             ilan_konumu       Marka  \\\n",
       "0   830000.0  2023-05-26 09:23:29.000000      İstanbul, Ümraniye     Renault   \n",
       "1   905000.0  2023-05-26 09:23:13.000000            İzmir, Konak     Renault   \n",
       "2   695000.0  2023-05-26 09:22:58.000000           Adana, Seyhan        Audi   \n",
       "3  1380000.0  2023-05-26 09:22:35.000000       İstanbul, Sarıyer        Audi   \n",
       "4   530000.0  2023-05-26 09:21:55.000000  Kırklareli, Lüleburgaz  Volkswagen   \n",
       "\n",
       "     Seri        Km    _Yil         Yakit    Güc      Tipi  silindir_hacmi  \n",
       "0  Megane  143000.0  2016.0         Dizel  110.0  Otomatik             1.5  \n",
       "1  Megane   80000.0  2017.0         Dizel  110.0  Otomatik             1.5  \n",
       "2      A3  177000.0  2011.0  Benzin & LPG  102.0    Manuel             1.6  \n",
       "3      A3   33000.0  2020.0        Benzin  150.0  Otomatik             1.5  \n",
       "4    Polo  125000.0  2015.0         Dizel   75.0    Manuel             1.4  "
      ]
     },
     "execution_count": 12,
     "metadata": {},
     "output_type": "execute_result"
    }
   ],
   "source": [
    "veri.head()"
   ]
  },
  {
   "cell_type": "markdown",
   "id": "a6e05e63",
   "metadata": {},
   "source": [
    "# Pasta Grafiği "
   ]
  },
  {
   "cell_type": "code",
   "execution_count": 13,
   "id": "14e02449",
   "metadata": {},
   "outputs": [],
   "source": [
    "def pie_visualization(dataframe, column):\n",
    "    fig, ax = plt.subplots(figsize=(10, 10))\n",
    "    dataframe[column].value_counts().plot.pie(legend=True, autopct=\"%1.1f%%\", ax=ax)"
   ]
  },
  {
   "cell_type": "code",
   "execution_count": 14,
   "id": "d999c94b",
   "metadata": {},
   "outputs": [
    {
     "data": {
      "image/png": "[encoded data removed]",
      "text/plain": [
       "<Figure size 1000x1000 with 1 Axes>"
      ]
     },
     "metadata": {},
     "output_type": "display_data"
    }
   ],
   "source": [
    "pie_visualization(veri, 'Marka')"
   ]
  },
  {
   "cell_type": "code",
   "execution_count": 15,
   "id": "64d0400c",
   "metadata": {},
   "outputs": [
    {
     "data": {
      "image/png": "[encoded data removed]",
      "text/plain": [
       "<Figure size 1000x1000 with 1 Axes>"
      ]
     },
     "metadata": {},
     "output_type": "display_data"
    }
   ],
   "source": [
    "pie_visualization(veri, 'Seri')"
   ]
  },
  {
   "cell_type": "code",
   "execution_count": 16,
   "id": "930008e2",
   "metadata": {},
   "outputs": [
    {
     "data": {
      "image/png": "[encoded data removed]",
      "text/plain": [
       "<Figure size 1000x1000 with 1 Axes>"
      ]
     },
     "metadata": {},
     "output_type": "display_data"
    }
   ],
   "source": [
    "pie_visualization(veri, 'Yakit')"
   ]
  },
  {
   "cell_type": "code",
   "execution_count": 17,
   "id": "313a09da",
   "metadata": {},
   "outputs": [
    {
     "data": {
      "image/png": "[encoded data removed]",
      "text/plain": [
       "<Figure size 1000x1000 with 1 Axes>"
      ]
     },
     "metadata": {},
     "output_type": "display_data"
    }
   ],
   "source": [
    "pie_visualization(veri, 'Tipi')"
   ]
  },
  {
   "cell_type": "markdown",
   "id": "9947f375",
   "metadata": {},
   "source": [
    "# Histogram"
   ]
  },
  {
   "cell_type": "code",
   "execution_count": 18,
   "id": "267fa451",
   "metadata": {},
   "outputs": [],
   "source": [
    "def visualization(dataframe,columns):\n",
    "    dataframe[columns].hist(grid=True,figsize=(12,8))"
   ]
  },
  {
   "cell_type": "code",
   "execution_count": 19,
   "id": "6bb360ba",
   "metadata": {},
   "outputs": [
    {
     "data": {
      "image/png": "[encoded data removed]",
      "text/plain": [
       "<Figure size 1200x800 with 1 Axes>"
      ]
     },
     "metadata": {},
     "output_type": "display_data"
    }
   ],
   "source": [
    "visualization(veri,columns=\"_Yil\")"
   ]
  },
  {
   "cell_type": "code",
   "execution_count": 20,
   "id": "1665628d",
   "metadata": {},
   "outputs": [
    {
     "data": {
      "image/png": "[encoded data removed]",
      "text/plain": [
       "<Figure size 1200x800 with 1 Axes>"
      ]
     },
     "metadata": {},
     "output_type": "display_data"
    }
   ],
   "source": [
    "visualization(veri,columns=\"Güc\") "
   ]
  },
  {
   "cell_type": "code",
   "execution_count": 21,
   "id": "07c421cc",
   "metadata": {},
   "outputs": [
    {
     "data": {
      "image/png": "[encoded data removed]",
      "text/plain": [
       "<Figure size 1200x800 with 1 Axes>"
      ]
     },
     "metadata": {},
     "output_type": "display_data"
    }
   ],
   "source": [
    "visualization(veri,columns=\"silindir_hacmi\") "
   ]
  },
  {
   "cell_type": "markdown",
   "id": "e651f377",
   "metadata": {},
   "source": [
    "# Boxplot "
   ]
  },
  {
   "cell_type": "code",
   "execution_count": 22,
   "id": "9b770b55",
   "metadata": {},
   "outputs": [],
   "source": [
    "def graph(x,df):\n",
    "    sns.boxplot(x=x, data=df)\n",
    "    plt.figure(figsize=(10,10))\n",
    "    plt.show()"
   ]
  },
  {
   "cell_type": "code",
   "execution_count": 23,
   "id": "21f55874",
   "metadata": {},
   "outputs": [
    {
     "data": {
      "image/png": "[encoded data removed]",
      "text/plain": [
       "<Figure size 640x480 with 1 Axes>"
      ]
     },
     "metadata": {},
     "output_type": "display_data"
    },
    {
     "data": {
      "text/plain": [
       "<Figure size 1000x1000 with 0 Axes>"
      ]
     },
     "metadata": {},
     "output_type": "display_data"
    }
   ],
   "source": [
    "graph(\"fiyat\",veri)"
   ]
  },
  {
   "cell_type": "code",
   "execution_count": 24,
   "id": "92a1e7ad",
   "metadata": {},
   "outputs": [
    {
     "data": {
      "image/png": "[encoded data removed]",
      "text/plain": [
       "<Figure size 640x480 with 1 Axes>"
      ]
     },
     "metadata": {},
     "output_type": "display_data"
    },
    {
     "data": {
      "text/plain": [
       "<Figure size 1000x1000 with 0 Axes>"
      ]
     },
     "metadata": {},
     "output_type": "display_data"
    }
   ],
   "source": [
    "graph(\"Km\",veri)"
   ]
  },
  {
   "cell_type": "code",
   "execution_count": 25,
   "id": "b54bbade",
   "metadata": {},
   "outputs": [
    {
     "data": {
      "image/png": "[encoded data removed]",
      "text/plain": [
       "<Figure size 640x480 with 1 Axes>"
      ]
     },
     "metadata": {},
     "output_type": "display_data"
    },
    {
     "data": {
      "text/plain": [
       "<Figure size 1000x1000 with 0 Axes>"
      ]
     },
     "metadata": {},
     "output_type": "display_data"
    }
   ],
   "source": [
    "graph(\"Güc\",veri)"
   ]
  },
  {
   "cell_type": "code",
   "execution_count": 26,
   "id": "a1d7628a",
   "metadata": {},
   "outputs": [
    {
     "data": {
      "image/png": "[encoded data removed]",
      "text/plain": [
       "<Figure size 640x480 with 1 Axes>"
      ]
     },
     "metadata": {},
     "output_type": "display_data"
    },
    {
     "data": {
      "text/plain": [
       "<Figure size 1000x1000 with 0 Axes>"
      ]
     },
     "metadata": {},
     "output_type": "display_data"
    }
   ],
   "source": [
    "graph(\"_Yil\",veri)"
   ]
  },
  {
   "cell_type": "code",
   "execution_count": 27,
   "id": "9873d7b4",
   "metadata": {},
   "outputs": [
    {
     "data": {
      "image/png": "[encoded data removed]",
      "text/plain": [
       "<Figure size 640x480 with 1 Axes>"
      ]
     },
     "metadata": {},
     "output_type": "display_data"
    },
    {
     "data": {
      "text/plain": [
       "<Figure size 1000x1000 with 0 Axes>"
      ]
     },
     "metadata": {},
     "output_type": "display_data"
    }
   ],
   "source": [
    "graph(\"silindir_hacmi\",veri)"
   ]
  },
  {
   "cell_type": "markdown",
   "id": "9773e31d",
   "metadata": {},
   "source": [
    "# Çubuk Grafiği"
   ]
  },
  {
   "cell_type": "code",
   "execution_count": 28,
   "id": "95209ec1",
   "metadata": {},
   "outputs": [],
   "source": [
    "def plotBar(degisken, n=5):\n",
    "    data_ = veri[degisken]  \n",
    "    data_sayma = data_.value_counts()\n",
    "    data_sayma = data_sayma[:n]\n",
    "    plt.figure()\n",
    "    plt.bar(data_sayma.index, data_sayma, color=\"purple\")\n",
    "    plt.xticks(data_sayma.index, data_sayma.index.values)\n",
    "    plt.xticks(rotation=90)\n",
    "    plt.ylabel(\"Frekans\")\n",
    "    plt.title(\"Veri Sıklığı - {}\".format(degisken))\n",
    "    plt.show()\n",
    "    print(\"{}: \\n {}\".format(degisken, data_sayma))"
   ]
  },
  {
   "cell_type": "code",
   "execution_count": 29,
   "id": "f887f175",
   "metadata": {},
   "outputs": [
    {
     "data": {
      "image/png": "[encoded data removed]",
      "text/plain": [
       "<Figure size 640x480 with 1 Axes>"
      ]
     },
     "metadata": {},
     "output_type": "display_data"
    },
    {
     "name": "stdout",
     "output_type": "stream",
     "text": [
      "Marka: \n",
      " Marka\n",
      "Renault       271120\n",
      "Volkswagen    184385\n",
      "Audi           86109\n",
      "Opel            7824\n",
      "Citroën         5923\n",
      "Isuzu           1392\n",
      "Name: count, dtype: int64\n"
     ]
    }
   ],
   "source": [
    "plotBar('Marka', n=6)  "
   ]
  },
  {
   "cell_type": "code",
   "execution_count": 30,
   "id": "dae35e1b",
   "metadata": {},
   "outputs": [
    {
     "data": {
      "image/png": "[encoded data removed]",
      "text/plain": [
       "<Figure size 640x480 with 1 Axes>"
      ]
     },
     "metadata": {},
     "output_type": "display_data"
    },
    {
     "name": "stdout",
     "output_type": "stream",
     "text": [
      "Seri: \n",
      " Seri\n",
      "Megane         271120\n",
      "Polo           184385\n",
      "A3              86105\n",
      "Astra            7824\n",
      "C3 AirCross      5923\n",
      "D-Max            1392\n",
      "A5                  4\n",
      "Name: count, dtype: int64\n"
     ]
    }
   ],
   "source": [
    "plotBar('Seri', n=20)  "
   ]
  },
  {
   "cell_type": "code",
   "execution_count": 31,
   "id": "8b0dd934",
   "metadata": {},
   "outputs": [
    {
     "data": {
      "image/png": "[encoded data removed]",
      "text/plain": [
       "<Figure size 640x480 with 1 Axes>"
      ]
     },
     "metadata": {},
     "output_type": "display_data"
    },
    {
     "name": "stdout",
     "output_type": "stream",
     "text": [
      "Yakit: \n",
      " Yakit\n",
      "Dizel           283594\n",
      "Benzin          153611\n",
      "Benzin & LPG    117898\n",
      "Hybrid            1651\n",
      "Elektrik             1\n",
      "Name: count, dtype: int64\n"
     ]
    }
   ],
   "source": [
    "plotBar('Yakit', n=10)"
   ]
  },
  {
   "cell_type": "code",
   "execution_count": 32,
   "id": "81639517",
   "metadata": {},
   "outputs": [
    {
     "data": {
      "image/png": "[encoded data removed]",
      "text/plain": [
       "<Figure size 640x480 with 1 Axes>"
      ]
     },
     "metadata": {},
     "output_type": "display_data"
    },
    {
     "name": "stdout",
     "output_type": "stream",
     "text": [
      "Tipi: \n",
      " Tipi\n",
      "Manuel           256947\n",
      "Otomatik         214375\n",
      "Yarı Otomatik     85373\n",
      "Name: count, dtype: int64\n"
     ]
    }
   ],
   "source": [
    "plotBar('Tipi', n=10)"
   ]
  },
  {
   "cell_type": "markdown",
   "id": "cdff9ad2",
   "metadata": {},
   "source": [
    "# Encoding İşlemler"
   ]
  },
  {
   "cell_type": "code",
   "execution_count": 33,
   "id": "4cbe31bb",
   "metadata": {},
   "outputs": [],
   "source": [
    "veri['Seri'] = veri['Seri'].apply(lambda x: x if x in [ \"Megane\",\"Polo\",\"A3\"] else 'Dıger')\n",
    "veri['Yakit'] = veri['Yakit'].apply(lambda x: x if x in [ \"Dizel\",\"Benzin\",\"Benzin & LPG\"] else 'Dıger')"
   ]
  },
  {
   "cell_type": "code",
   "execution_count": 34,
   "id": "d1ac3eaa",
   "metadata": {},
   "outputs": [],
   "source": [
    "veri= pd.get_dummies(veri, columns=['Seri','Yakit','Tipi'])"
   ]
  },
  {
   "cell_type": "code",
   "execution_count": 35,
   "id": "96689175",
   "metadata": {},
   "outputs": [
    {
     "data": {
      "text/html": [
       "<div>\n",
       "<style scoped>\n",
       "    .dataframe tbody tr th:only-of-type {\n",
       "        vertical-align: middle;\n",
       "    }\n",
       "\n",
       "    .dataframe tbody tr th {\n",
       "        vertical-align: top;\n",
       "    }\n",
       "\n",
       "    .dataframe thead th {\n",
       "        text-align: right;\n",
       "    }\n",
       "</style>\n",
       "<table border=\"1\" class=\"dataframe\">\n",
       "  <thead>\n",
       "    <tr style=\"text-align: right;\">\n",
       "      <th></th>\n",
       "      <th>fiyat</th>\n",
       "      <th>ilan_tarihi</th>\n",
       "      <th>ilan_konumu</th>\n",
       "      <th>Marka</th>\n",
       "      <th>Km</th>\n",
       "      <th>_Yil</th>\n",
       "      <th>Güc</th>\n",
       "      <th>silindir_hacmi</th>\n",
       "      <th>Seri_A3</th>\n",
       "      <th>Seri_Dıger</th>\n",
       "      <th>Seri_Megane</th>\n",
       "      <th>Seri_Polo</th>\n",
       "      <th>Yakit_Benzin</th>\n",
       "      <th>Yakit_Benzin &amp; LPG</th>\n",
       "      <th>Yakit_Dizel</th>\n",
       "      <th>Yakit_Dıger</th>\n",
       "      <th>Tipi_Manuel</th>\n",
       "      <th>Tipi_Otomatik</th>\n",
       "      <th>Tipi_Yarı Otomatik</th>\n",
       "    </tr>\n",
       "  </thead>\n",
       "  <tbody>\n",
       "    <tr>\n",
       "      <th>0</th>\n",
       "      <td>830000.0</td>\n",
       "      <td>2023-05-26 09:23:29.000000</td>\n",
       "      <td>İstanbul, Ümraniye</td>\n",
       "      <td>Renault</td>\n",
       "      <td>143000.0</td>\n",
       "      <td>2016.0</td>\n",
       "      <td>110.0</td>\n",
       "      <td>1.5</td>\n",
       "      <td>False</td>\n",
       "      <td>False</td>\n",
       "      <td>True</td>\n",
       "      <td>False</td>\n",
       "      <td>False</td>\n",
       "      <td>False</td>\n",
       "      <td>True</td>\n",
       "      <td>False</td>\n",
       "      <td>False</td>\n",
       "      <td>True</td>\n",
       "      <td>False</td>\n",
       "    </tr>\n",
       "    <tr>\n",
       "      <th>1</th>\n",
       "      <td>905000.0</td>\n",
       "      <td>2023-05-26 09:23:13.000000</td>\n",
       "      <td>İzmir, Konak</td>\n",
       "      <td>Renault</td>\n",
       "      <td>80000.0</td>\n",
       "      <td>2017.0</td>\n",
       "      <td>110.0</td>\n",
       "      <td>1.5</td>\n",
       "      <td>False</td>\n",
       "      <td>False</td>\n",
       "      <td>True</td>\n",
       "      <td>False</td>\n",
       "      <td>False</td>\n",
       "      <td>False</td>\n",
       "      <td>True</td>\n",
       "      <td>False</td>\n",
       "      <td>False</td>\n",
       "      <td>True</td>\n",
       "      <td>False</td>\n",
       "    </tr>\n",
       "    <tr>\n",
       "      <th>2</th>\n",
       "      <td>695000.0</td>\n",
       "      <td>2023-05-26 09:22:58.000000</td>\n",
       "      <td>Adana, Seyhan</td>\n",
       "      <td>Audi</td>\n",
       "      <td>177000.0</td>\n",
       "      <td>2011.0</td>\n",
       "      <td>102.0</td>\n",
       "      <td>1.6</td>\n",
       "      <td>True</td>\n",
       "      <td>False</td>\n",
       "      <td>False</td>\n",
       "      <td>False</td>\n",
       "      <td>False</td>\n",
       "      <td>True</td>\n",
       "      <td>False</td>\n",
       "      <td>False</td>\n",
       "      <td>True</td>\n",
       "      <td>False</td>\n",
       "      <td>False</td>\n",
       "    </tr>\n",
       "    <tr>\n",
       "      <th>3</th>\n",
       "      <td>1380000.0</td>\n",
       "      <td>2023-05-26 09:22:35.000000</td>\n",
       "      <td>İstanbul, Sarıyer</td>\n",
       "      <td>Audi</td>\n",
       "      <td>33000.0</td>\n",
       "      <td>2020.0</td>\n",
       "      <td>150.0</td>\n",
       "      <td>1.5</td>\n",
       "      <td>True</td>\n",
       "      <td>False</td>\n",
       "      <td>False</td>\n",
       "      <td>False</td>\n",
       "      <td>True</td>\n",
       "      <td>False</td>\n",
       "      <td>False</td>\n",
       "      <td>False</td>\n",
       "      <td>False</td>\n",
       "      <td>True</td>\n",
       "      <td>False</td>\n",
       "    </tr>\n",
       "    <tr>\n",
       "      <th>4</th>\n",
       "      <td>530000.0</td>\n",
       "      <td>2023-05-26 09:21:55.000000</td>\n",
       "      <td>Kırklareli, Lüleburgaz</td>\n",
       "      <td>Volkswagen</td>\n",
       "      <td>125000.0</td>\n",
       "      <td>2015.0</td>\n",
       "      <td>75.0</td>\n",
       "      <td>1.4</td>\n",
       "      <td>False</td>\n",
       "      <td>False</td>\n",
       "      <td>False</td>\n",
       "      <td>True</td>\n",
       "      <td>False</td>\n",
       "      <td>False</td>\n",
       "      <td>True</td>\n",
       "      <td>False</td>\n",
       "      <td>True</td>\n",
       "      <td>False</td>\n",
       "      <td>False</td>\n",
       "    </tr>\n",
       "  </tbody>\n",
       "</table>\n",
       "</div>"
      ],
      "text/plain": [
       "       fiyat                 ilan_tarihi             ilan_konumu       Marka  \\\n",
       "0   830000.0  2023-05-26 09:23:29.000000      İstanbul, Ümraniye     Renault   \n",
       "1   905000.0  2023-05-26 09:23:13.000000            İzmir, Konak     Renault   \n",
       "2   695000.0  2023-05-26 09:22:58.000000           Adana, Seyhan        Audi   \n",
       "3  1380000.0  2023-05-26 09:22:35.000000       İstanbul, Sarıyer        Audi   \n",
       "4   530000.0  2023-05-26 09:21:55.000000  Kırklareli, Lüleburgaz  Volkswagen   \n",
       "\n",
       "         Km    _Yil    Güc  silindir_hacmi  Seri_A3  Seri_Dıger  Seri_Megane  \\\n",
       "0  143000.0  2016.0  110.0             1.5    False       False         True   \n",
       "1   80000.0  2017.0  110.0             1.5    False       False         True   \n",
       "2  177000.0  2011.0  102.0             1.6     True       False        False   \n",
       "3   33000.0  2020.0  150.0             1.5     True       False        False   \n",
       "4  125000.0  2015.0   75.0             1.4    False       False        False   \n",
       "\n",
       "   Seri_Polo  Yakit_Benzin  Yakit_Benzin & LPG  Yakit_Dizel  Yakit_Dıger  \\\n",
       "0      False         False               False         True        False   \n",
       "1      False         False               False         True        False   \n",
       "2      False         False                True        False        False   \n",
       "3      False          True               False        False        False   \n",
       "4       True         False               False         True        False   \n",
       "\n",
       "   Tipi_Manuel  Tipi_Otomatik  Tipi_Yarı Otomatik  \n",
       "0        False           True               False  \n",
       "1        False           True               False  \n",
       "2         True          False               False  \n",
       "3        False           True               False  \n",
       "4         True          False               False  "
      ]
     },
     "execution_count": 35,
     "metadata": {},
     "output_type": "execute_result"
    }
   ],
   "source": [
    "pd.set_option('display.max_columns', None) \n",
    "veri.head()"
   ]
  },
  {
   "cell_type": "markdown",
   "id": "18c2527f",
   "metadata": {},
   "source": [
    "# Aykırı değer analizi"
   ]
  },
  {
   "cell_type": "code",
   "execution_count": 36,
   "id": "50a996e6",
   "metadata": {},
   "outputs": [],
   "source": [
    "def outlier_thresholds(dataframe, col_name, q1=0.25, q3=0.75):\n",
    "    quartile1 = dataframe[col_name].quantile(q1)\n",
    "    quartile3 = dataframe[col_name].quantile(q3)\n",
    "    interquantile_range = quartile3 - quartile1\n",
    "    up_limit = quartile3 + 1.5 * interquantile_range\n",
    "    low_limit = quartile1 - 1.5 * interquantile_range    \n",
    "    return low_limit, up_limit"
   ]
  },
  {
   "cell_type": "code",
   "execution_count": 37,
   "id": "5451dbef",
   "metadata": {},
   "outputs": [
    {
     "data": {
      "text/plain": [
       "(-327500.0, 1492500.0)"
      ]
     },
     "execution_count": 37,
     "metadata": {},
     "output_type": "execute_result"
    }
   ],
   "source": [
    "outlier_thresholds(veri,'fiyat')"
   ]
  },
  {
   "cell_type": "code",
   "execution_count": 38,
   "id": "8c1f5587",
   "metadata": {},
   "outputs": [],
   "source": [
    "veri = veri[(veri[\"fiyat\"]<1492500.0) & (veri[\"fiyat\"] > 100000.0)]"
   ]
  },
  {
   "cell_type": "code",
   "execution_count": 39,
   "id": "600ae6fe",
   "metadata": {},
   "outputs": [
    {
     "data": {
      "image/png": "[encoded data removed]",
      "text/plain": [
       "<Figure size 640x480 with 1 Axes>"
      ]
     },
     "metadata": {},
     "output_type": "display_data"
    },
    {
     "data": {
      "text/plain": [
       "<Figure size 1000x1000 with 0 Axes>"
      ]
     },
     "metadata": {},
     "output_type": "display_data"
    }
   ],
   "source": [
    "graph(\"fiyat\",veri)"
   ]
  },
  {
   "cell_type": "code",
   "execution_count": 40,
   "id": "ff0af7a5",
   "metadata": {},
   "outputs": [
    {
     "data": {
      "text/plain": [
       "(1990.5, 2034.5)"
      ]
     },
     "execution_count": 40,
     "metadata": {},
     "output_type": "execute_result"
    }
   ],
   "source": [
    "outlier_thresholds(veri,'_Yil')"
   ]
  },
  {
   "cell_type": "code",
   "execution_count": 41,
   "id": "4376d65b",
   "metadata": {},
   "outputs": [],
   "source": [
    "veri = veri[(veri[\"_Yil\"] > 1990)]"
   ]
  },
  {
   "cell_type": "code",
   "execution_count": 42,
   "id": "d11c8e9f",
   "metadata": {},
   "outputs": [
    {
     "data": {
      "image/png": "[encoded data removed]",
      "text/plain": [
       "<Figure size 640x480 with 1 Axes>"
      ]
     },
     "metadata": {},
     "output_type": "display_data"
    },
    {
     "data": {
      "text/plain": [
       "<Figure size 1000x1000 with 0 Axes>"
      ]
     },
     "metadata": {},
     "output_type": "display_data"
    }
   ],
   "source": [
    "graph(\"_Yil\",veri)"
   ]
  },
  {
   "cell_type": "code",
   "execution_count": 43,
   "id": "d8476590",
   "metadata": {},
   "outputs": [
    {
     "data": {
      "text/plain": [
       "(52.5, 152.5)"
      ]
     },
     "execution_count": 43,
     "metadata": {},
     "output_type": "execute_result"
    }
   ],
   "source": [
    "outlier_thresholds(veri,'Güc')"
   ]
  },
  {
   "cell_type": "code",
   "execution_count": 44,
   "id": "dc34a64e",
   "metadata": {},
   "outputs": [],
   "source": [
    "veri = veri[(veri[\"Güc\"] > 52.5) & (veri[\"Güc\"] < 152.5) ]"
   ]
  },
  {
   "cell_type": "code",
   "execution_count": 45,
   "id": "981b6e1a",
   "metadata": {},
   "outputs": [
    {
     "data": {
      "image/png": "[encoded data removed]",
      "text/plain": [
       "<Figure size 640x480 with 1 Axes>"
      ]
     },
     "metadata": {},
     "output_type": "display_data"
    },
    {
     "data": {
      "text/plain": [
       "<Figure size 1000x1000 with 0 Axes>"
      ]
     },
     "metadata": {},
     "output_type": "display_data"
    }
   ],
   "source": [
    "graph(\"Güc\",veri)"
   ]
  },
  {
   "cell_type": "code",
   "execution_count": 46,
   "id": "3ab524c5",
   "metadata": {},
   "outputs": [
    {
     "data": {
      "text/plain": [
       "(-116625.0, 420375.0)"
      ]
     },
     "execution_count": 46,
     "metadata": {},
     "output_type": "execute_result"
    }
   ],
   "source": [
    "outlier_thresholds(veri,'Km')"
   ]
  },
  {
   "cell_type": "code",
   "execution_count": 47,
   "id": "18e9eca3",
   "metadata": {},
   "outputs": [],
   "source": [
    "veri = veri[(veri[\"Km\"] > 0) & (veri[\"Km\"] < 416500.0) ]"
   ]
  },
  {
   "cell_type": "code",
   "execution_count": 48,
   "id": "23d2c1a1",
   "metadata": {},
   "outputs": [
    {
     "data": {
      "image/png": "[encoded data removed]",
      "text/plain": [
       "<Figure size 640x480 with 1 Axes>"
      ]
     },
     "metadata": {},
     "output_type": "display_data"
    },
    {
     "data": {
      "text/plain": [
       "<Figure size 1000x1000 with 0 Axes>"
      ]
     },
     "metadata": {},
     "output_type": "display_data"
    }
   ],
   "source": [
    "graph(\"Km\",veri)"
   ]
  },
  {
   "cell_type": "code",
   "execution_count": 49,
   "id": "609c414c",
   "metadata": {},
   "outputs": [
    {
     "data": {
      "text/html": [
       "<div>\n",
       "<style scoped>\n",
       "    .dataframe tbody tr th:only-of-type {\n",
       "        vertical-align: middle;\n",
       "    }\n",
       "\n",
       "    .dataframe tbody tr th {\n",
       "        vertical-align: top;\n",
       "    }\n",
       "\n",
       "    .dataframe thead th {\n",
       "        text-align: right;\n",
       "    }\n",
       "</style>\n",
       "<table border=\"1\" class=\"dataframe\">\n",
       "  <thead>\n",
       "    <tr style=\"text-align: right;\">\n",
       "      <th></th>\n",
       "      <th>fiyat</th>\n",
       "      <th>ilan_tarihi</th>\n",
       "      <th>ilan_konumu</th>\n",
       "      <th>Km</th>\n",
       "      <th>_Yil</th>\n",
       "      <th>Güc</th>\n",
       "      <th>silindir_hacmi</th>\n",
       "      <th>Seri_A3</th>\n",
       "      <th>Seri_Dıger</th>\n",
       "      <th>Seri_Megane</th>\n",
       "      <th>Seri_Polo</th>\n",
       "      <th>Yakit_Benzin</th>\n",
       "      <th>Yakit_Benzin &amp; LPG</th>\n",
       "      <th>Yakit_Dizel</th>\n",
       "      <th>Yakit_Dıger</th>\n",
       "      <th>Tipi_Manuel</th>\n",
       "      <th>Tipi_Otomatik</th>\n",
       "      <th>Tipi_Yarı Otomatik</th>\n",
       "    </tr>\n",
       "  </thead>\n",
       "  <tbody>\n",
       "    <tr>\n",
       "      <th>0</th>\n",
       "      <td>830000.0</td>\n",
       "      <td>2023-05-26 09:23:29.000000</td>\n",
       "      <td>İstanbul, Ümraniye</td>\n",
       "      <td>143000.0</td>\n",
       "      <td>2016.0</td>\n",
       "      <td>110.0</td>\n",
       "      <td>1.5</td>\n",
       "      <td>False</td>\n",
       "      <td>False</td>\n",
       "      <td>True</td>\n",
       "      <td>False</td>\n",
       "      <td>False</td>\n",
       "      <td>False</td>\n",
       "      <td>True</td>\n",
       "      <td>False</td>\n",
       "      <td>False</td>\n",
       "      <td>True</td>\n",
       "      <td>False</td>\n",
       "    </tr>\n",
       "    <tr>\n",
       "      <th>1</th>\n",
       "      <td>905000.0</td>\n",
       "      <td>2023-05-26 09:23:13.000000</td>\n",
       "      <td>İzmir, Konak</td>\n",
       "      <td>80000.0</td>\n",
       "      <td>2017.0</td>\n",
       "      <td>110.0</td>\n",
       "      <td>1.5</td>\n",
       "      <td>False</td>\n",
       "      <td>False</td>\n",
       "      <td>True</td>\n",
       "      <td>False</td>\n",
       "      <td>False</td>\n",
       "      <td>False</td>\n",
       "      <td>True</td>\n",
       "      <td>False</td>\n",
       "      <td>False</td>\n",
       "      <td>True</td>\n",
       "      <td>False</td>\n",
       "    </tr>\n",
       "    <tr>\n",
       "      <th>2</th>\n",
       "      <td>695000.0</td>\n",
       "      <td>2023-05-26 09:22:58.000000</td>\n",
       "      <td>Adana, Seyhan</td>\n",
       "      <td>177000.0</td>\n",
       "      <td>2011.0</td>\n",
       "      <td>102.0</td>\n",
       "      <td>1.6</td>\n",
       "      <td>True</td>\n",
       "      <td>False</td>\n",
       "      <td>False</td>\n",
       "      <td>False</td>\n",
       "      <td>False</td>\n",
       "      <td>True</td>\n",
       "      <td>False</td>\n",
       "      <td>False</td>\n",
       "      <td>True</td>\n",
       "      <td>False</td>\n",
       "      <td>False</td>\n",
       "    </tr>\n",
       "    <tr>\n",
       "      <th>3</th>\n",
       "      <td>1380000.0</td>\n",
       "      <td>2023-05-26 09:22:35.000000</td>\n",
       "      <td>İstanbul, Sarıyer</td>\n",
       "      <td>33000.0</td>\n",
       "      <td>2020.0</td>\n",
       "      <td>150.0</td>\n",
       "      <td>1.5</td>\n",
       "      <td>True</td>\n",
       "      <td>False</td>\n",
       "      <td>False</td>\n",
       "      <td>False</td>\n",
       "      <td>True</td>\n",
       "      <td>False</td>\n",
       "      <td>False</td>\n",
       "      <td>False</td>\n",
       "      <td>False</td>\n",
       "      <td>True</td>\n",
       "      <td>False</td>\n",
       "    </tr>\n",
       "    <tr>\n",
       "      <th>4</th>\n",
       "      <td>530000.0</td>\n",
       "      <td>2023-05-26 09:21:55.000000</td>\n",
       "      <td>Kırklareli, Lüleburgaz</td>\n",
       "      <td>125000.0</td>\n",
       "      <td>2015.0</td>\n",
       "      <td>75.0</td>\n",
       "      <td>1.4</td>\n",
       "      <td>False</td>\n",
       "      <td>False</td>\n",
       "      <td>False</td>\n",
       "      <td>True</td>\n",
       "      <td>False</td>\n",
       "      <td>False</td>\n",
       "      <td>True</td>\n",
       "      <td>False</td>\n",
       "      <td>True</td>\n",
       "      <td>False</td>\n",
       "      <td>False</td>\n",
       "    </tr>\n",
       "  </tbody>\n",
       "</table>\n",
       "</div>"
      ],
      "text/plain": [
       "       fiyat                 ilan_tarihi             ilan_konumu        Km  \\\n",
       "0   830000.0  2023-05-26 09:23:29.000000      İstanbul, Ümraniye  143000.0   \n",
       "1   905000.0  2023-05-26 09:23:13.000000            İzmir, Konak   80000.0   \n",
       "2   695000.0  2023-05-26 09:22:58.000000           Adana, Seyhan  177000.0   \n",
       "3  1380000.0  2023-05-26 09:22:35.000000       İstanbul, Sarıyer   33000.0   \n",
       "4   530000.0  2023-05-26 09:21:55.000000  Kırklareli, Lüleburgaz  125000.0   \n",
       "\n",
       "     _Yil    Güc  silindir_hacmi  Seri_A3  Seri_Dıger  Seri_Megane  Seri_Polo  \\\n",
       "0  2016.0  110.0             1.5    False       False         True      False   \n",
       "1  2017.0  110.0             1.5    False       False         True      False   \n",
       "2  2011.0  102.0             1.6     True       False        False      False   \n",
       "3  2020.0  150.0             1.5     True       False        False      False   \n",
       "4  2015.0   75.0             1.4    False       False        False       True   \n",
       "\n",
       "   Yakit_Benzin  Yakit_Benzin & LPG  Yakit_Dizel  Yakit_Dıger  Tipi_Manuel  \\\n",
       "0         False               False         True        False        False   \n",
       "1         False               False         True        False        False   \n",
       "2         False                True        False        False         True   \n",
       "3          True               False        False        False        False   \n",
       "4         False               False         True        False         True   \n",
       "\n",
       "   Tipi_Otomatik  Tipi_Yarı Otomatik  \n",
       "0           True               False  \n",
       "1           True               False  \n",
       "2          False               False  \n",
       "3           True               False  \n",
       "4          False               False  "
      ]
     },
     "execution_count": 49,
     "metadata": {},
     "output_type": "execute_result"
    }
   ],
   "source": [
    "veri = veri.drop(['Marka'], axis=1)\n",
    "veri.head()"
   ]
  },
  {
   "cell_type": "code",
   "execution_count": 50,
   "id": "993ad8b0",
   "metadata": {},
   "outputs": [],
   "source": [
    "veri['beygir_gucu'] = veri['Güc'] / veri['silindir_hacmi']"
   ]
  },
  {
   "cell_type": "code",
   "execution_count": 51,
   "id": "7a433d95",
   "metadata": {},
   "outputs": [],
   "source": [
    "X = veri.drop([\"fiyat\",\"ilan_tarihi\",\"ilan_konumu\",],axis=1) \n",
    "y = veri[\"fiyat\"] "
   ]
  },
  {
   "cell_type": "code",
   "execution_count": 52,
   "id": "da6c7dac",
   "metadata": {},
   "outputs": [
    {
     "data": {
      "text/html": [
       "<div>\n",
       "<style scoped>\n",
       "    .dataframe tbody tr th:only-of-type {\n",
       "        vertical-align: middle;\n",
       "    }\n",
       "\n",
       "    .dataframe tbody tr th {\n",
       "        vertical-align: top;\n",
       "    }\n",
       "\n",
       "    .dataframe thead th {\n",
       "        text-align: right;\n",
       "    }\n",
       "</style>\n",
       "<table border=\"1\" class=\"dataframe\">\n",
       "  <thead>\n",
       "    <tr style=\"text-align: right;\">\n",
       "      <th></th>\n",
       "      <th>Km</th>\n",
       "      <th>_Yil</th>\n",
       "      <th>Güc</th>\n",
       "      <th>silindir_hacmi</th>\n",
       "      <th>Seri_A3</th>\n",
       "      <th>Seri_Dıger</th>\n",
       "      <th>Seri_Megane</th>\n",
       "      <th>Seri_Polo</th>\n",
       "      <th>Yakit_Benzin</th>\n",
       "      <th>Yakit_Benzin &amp; LPG</th>\n",
       "      <th>Yakit_Dizel</th>\n",
       "      <th>Yakit_Dıger</th>\n",
       "      <th>Tipi_Manuel</th>\n",
       "      <th>Tipi_Otomatik</th>\n",
       "      <th>Tipi_Yarı Otomatik</th>\n",
       "      <th>beygir_gucu</th>\n",
       "    </tr>\n",
       "  </thead>\n",
       "  <tbody>\n",
       "    <tr>\n",
       "      <th>0</th>\n",
       "      <td>143000.0</td>\n",
       "      <td>2016.0</td>\n",
       "      <td>110.0</td>\n",
       "      <td>1.5</td>\n",
       "      <td>False</td>\n",
       "      <td>False</td>\n",
       "      <td>True</td>\n",
       "      <td>False</td>\n",
       "      <td>False</td>\n",
       "      <td>False</td>\n",
       "      <td>True</td>\n",
       "      <td>False</td>\n",
       "      <td>False</td>\n",
       "      <td>True</td>\n",
       "      <td>False</td>\n",
       "      <td>73.333333</td>\n",
       "    </tr>\n",
       "    <tr>\n",
       "      <th>1</th>\n",
       "      <td>80000.0</td>\n",
       "      <td>2017.0</td>\n",
       "      <td>110.0</td>\n",
       "      <td>1.5</td>\n",
       "      <td>False</td>\n",
       "      <td>False</td>\n",
       "      <td>True</td>\n",
       "      <td>False</td>\n",
       "      <td>False</td>\n",
       "      <td>False</td>\n",
       "      <td>True</td>\n",
       "      <td>False</td>\n",
       "      <td>False</td>\n",
       "      <td>True</td>\n",
       "      <td>False</td>\n",
       "      <td>73.333333</td>\n",
       "    </tr>\n",
       "    <tr>\n",
       "      <th>2</th>\n",
       "      <td>177000.0</td>\n",
       "      <td>2011.0</td>\n",
       "      <td>102.0</td>\n",
       "      <td>1.6</td>\n",
       "      <td>True</td>\n",
       "      <td>False</td>\n",
       "      <td>False</td>\n",
       "      <td>False</td>\n",
       "      <td>False</td>\n",
       "      <td>True</td>\n",
       "      <td>False</td>\n",
       "      <td>False</td>\n",
       "      <td>True</td>\n",
       "      <td>False</td>\n",
       "      <td>False</td>\n",
       "      <td>63.750000</td>\n",
       "    </tr>\n",
       "    <tr>\n",
       "      <th>3</th>\n",
       "      <td>33000.0</td>\n",
       "      <td>2020.0</td>\n",
       "      <td>150.0</td>\n",
       "      <td>1.5</td>\n",
       "      <td>True</td>\n",
       "      <td>False</td>\n",
       "      <td>False</td>\n",
       "      <td>False</td>\n",
       "      <td>True</td>\n",
       "      <td>False</td>\n",
       "      <td>False</td>\n",
       "      <td>False</td>\n",
       "      <td>False</td>\n",
       "      <td>True</td>\n",
       "      <td>False</td>\n",
       "      <td>100.000000</td>\n",
       "    </tr>\n",
       "    <tr>\n",
       "      <th>4</th>\n",
       "      <td>125000.0</td>\n",
       "      <td>2015.0</td>\n",
       "      <td>75.0</td>\n",
       "      <td>1.4</td>\n",
       "      <td>False</td>\n",
       "      <td>False</td>\n",
       "      <td>False</td>\n",
       "      <td>True</td>\n",
       "      <td>False</td>\n",
       "      <td>False</td>\n",
       "      <td>True</td>\n",
       "      <td>False</td>\n",
       "      <td>True</td>\n",
       "      <td>False</td>\n",
       "      <td>False</td>\n",
       "      <td>53.571429</td>\n",
       "    </tr>\n",
       "    <tr>\n",
       "      <th>...</th>\n",
       "      <td>...</td>\n",
       "      <td>...</td>\n",
       "      <td>...</td>\n",
       "      <td>...</td>\n",
       "      <td>...</td>\n",
       "      <td>...</td>\n",
       "      <td>...</td>\n",
       "      <td>...</td>\n",
       "      <td>...</td>\n",
       "      <td>...</td>\n",
       "      <td>...</td>\n",
       "      <td>...</td>\n",
       "      <td>...</td>\n",
       "      <td>...</td>\n",
       "      <td>...</td>\n",
       "      <td>...</td>\n",
       "    </tr>\n",
       "    <tr>\n",
       "      <th>556750</th>\n",
       "      <td>235000.0</td>\n",
       "      <td>2007.0</td>\n",
       "      <td>98.0</td>\n",
       "      <td>1.4</td>\n",
       "      <td>False</td>\n",
       "      <td>False</td>\n",
       "      <td>True</td>\n",
       "      <td>False</td>\n",
       "      <td>False</td>\n",
       "      <td>True</td>\n",
       "      <td>False</td>\n",
       "      <td>False</td>\n",
       "      <td>True</td>\n",
       "      <td>False</td>\n",
       "      <td>False</td>\n",
       "      <td>70.000000</td>\n",
       "    </tr>\n",
       "    <tr>\n",
       "      <th>556751</th>\n",
       "      <td>57000.0</td>\n",
       "      <td>2016.0</td>\n",
       "      <td>90.0</td>\n",
       "      <td>1.2</td>\n",
       "      <td>False</td>\n",
       "      <td>False</td>\n",
       "      <td>False</td>\n",
       "      <td>True</td>\n",
       "      <td>True</td>\n",
       "      <td>False</td>\n",
       "      <td>False</td>\n",
       "      <td>False</td>\n",
       "      <td>False</td>\n",
       "      <td>True</td>\n",
       "      <td>False</td>\n",
       "      <td>75.000000</td>\n",
       "    </tr>\n",
       "    <tr>\n",
       "      <th>556753</th>\n",
       "      <td>205000.0</td>\n",
       "      <td>2015.0</td>\n",
       "      <td>75.0</td>\n",
       "      <td>1.4</td>\n",
       "      <td>False</td>\n",
       "      <td>False</td>\n",
       "      <td>False</td>\n",
       "      <td>True</td>\n",
       "      <td>False</td>\n",
       "      <td>False</td>\n",
       "      <td>True</td>\n",
       "      <td>False</td>\n",
       "      <td>True</td>\n",
       "      <td>False</td>\n",
       "      <td>False</td>\n",
       "      <td>53.571429</td>\n",
       "    </tr>\n",
       "    <tr>\n",
       "      <th>556754</th>\n",
       "      <td>22000.0</td>\n",
       "      <td>2020.0</td>\n",
       "      <td>115.0</td>\n",
       "      <td>1.5</td>\n",
       "      <td>False</td>\n",
       "      <td>False</td>\n",
       "      <td>True</td>\n",
       "      <td>False</td>\n",
       "      <td>False</td>\n",
       "      <td>False</td>\n",
       "      <td>True</td>\n",
       "      <td>False</td>\n",
       "      <td>False</td>\n",
       "      <td>True</td>\n",
       "      <td>False</td>\n",
       "      <td>76.666667</td>\n",
       "    </tr>\n",
       "    <tr>\n",
       "      <th>556755</th>\n",
       "      <td>181000.0</td>\n",
       "      <td>2007.0</td>\n",
       "      <td>102.0</td>\n",
       "      <td>1.6</td>\n",
       "      <td>True</td>\n",
       "      <td>False</td>\n",
       "      <td>False</td>\n",
       "      <td>False</td>\n",
       "      <td>False</td>\n",
       "      <td>True</td>\n",
       "      <td>False</td>\n",
       "      <td>False</td>\n",
       "      <td>False</td>\n",
       "      <td>True</td>\n",
       "      <td>False</td>\n",
       "      <td>63.750000</td>\n",
       "    </tr>\n",
       "  </tbody>\n",
       "</table>\n",
       "<p>543039 rows × 16 columns</p>\n",
       "</div>"
      ],
      "text/plain": [
       "              Km    _Yil    Güc  silindir_hacmi  Seri_A3  Seri_Dıger  \\\n",
       "0       143000.0  2016.0  110.0             1.5    False       False   \n",
       "1        80000.0  2017.0  110.0             1.5    False       False   \n",
       "2       177000.0  2011.0  102.0             1.6     True       False   \n",
       "3        33000.0  2020.0  150.0             1.5     True       False   \n",
       "4       125000.0  2015.0   75.0             1.4    False       False   \n",
       "...          ...     ...    ...             ...      ...         ...   \n",
       "556750  235000.0  2007.0   98.0             1.4    False       False   \n",
       "556751   57000.0  2016.0   90.0             1.2    False       False   \n",
       "556753  205000.0  2015.0   75.0             1.4    False       False   \n",
       "556754   22000.0  2020.0  115.0             1.5    False       False   \n",
       "556755  181000.0  2007.0  102.0             1.6     True       False   \n",
       "\n",
       "        Seri_Megane  Seri_Polo  Yakit_Benzin  Yakit_Benzin & LPG  Yakit_Dizel  \\\n",
       "0              True      False         False               False         True   \n",
       "1              True      False         False               False         True   \n",
       "2             False      False         False                True        False   \n",
       "3             False      False          True               False        False   \n",
       "4             False       True         False               False         True   \n",
       "...             ...        ...           ...                 ...          ...   \n",
       "556750         True      False         False                True        False   \n",
       "556751        False       True          True               False        False   \n",
       "556753        False       True         False               False         True   \n",
       "556754         True      False         False               False         True   \n",
       "556755        False      False         False                True        False   \n",
       "\n",
       "        Yakit_Dıger  Tipi_Manuel  Tipi_Otomatik  Tipi_Yarı Otomatik  \\\n",
       "0             False        False           True               False   \n",
       "1             False        False           True               False   \n",
       "2             False         True          False               False   \n",
       "3             False        False           True               False   \n",
       "4             False         True          False               False   \n",
       "...             ...          ...            ...                 ...   \n",
       "556750        False         True          False               False   \n",
       "556751        False        False           True               False   \n",
       "556753        False         True          False               False   \n",
       "556754        False        False           True               False   \n",
       "556755        False        False           True               False   \n",
       "\n",
       "        beygir_gucu  \n",
       "0         73.333333  \n",
       "1         73.333333  \n",
       "2         63.750000  \n",
       "3        100.000000  \n",
       "4         53.571429  \n",
       "...             ...  \n",
       "556750    70.000000  \n",
       "556751    75.000000  \n",
       "556753    53.571429  \n",
       "556754    76.666667  \n",
       "556755    63.750000  \n",
       "\n",
       "[543039 rows x 16 columns]"
      ]
     },
     "execution_count": 52,
     "metadata": {},
     "output_type": "execute_result"
    }
   ],
   "source": [
    "X"
   ]
  },
  {
   "cell_type": "code",
   "execution_count": 53,
   "id": "cb1d59f0",
   "metadata": {},
   "outputs": [
    {
     "data": {
      "text/plain": [
       "0          830000.0\n",
       "1          905000.0\n",
       "2          695000.0\n",
       "3         1380000.0\n",
       "4          530000.0\n",
       "            ...    \n",
       "556750     360000.0\n",
       "556751     720000.0\n",
       "556753     469500.0\n",
       "556754     997500.0\n",
       "556755     560000.0\n",
       "Name: fiyat, Length: 543039, dtype: float64"
      ]
     },
     "execution_count": 53,
     "metadata": {},
     "output_type": "execute_result"
    }
   ],
   "source": [
    "y"
   ]
  },
  {
   "cell_type": "code",
   "execution_count": 54,
   "id": "5a2aec2f",
   "metadata": {},
   "outputs": [],
   "source": [
    "from sklearn.model_selection import train_test_split\n",
    "\n",
    "X_train, X_test, y_train, y_test = train_test_split(X, y, test_size=0.1, random_state=42)"
   ]
  },
  {
   "cell_type": "code",
   "execution_count": 55,
   "id": "e6828927",
   "metadata": {},
   "outputs": [],
   "source": [
    "from sklearn.preprocessing import MinMaxScaler \n",
    "scaler = MinMaxScaler()\n",
    "X_train = scaler.fit_transform(X_train)\n",
    "X_test = scaler.transform(X_test)"
   ]
  },
  {
   "cell_type": "code",
   "execution_count": 56,
   "id": "c6ad34bd",
   "metadata": {},
   "outputs": [
    {
     "name": "stdout",
     "output_type": "stream",
     "text": [
      "Test Seti R^2 Skoru: 0.7736221667756875\n"
     ]
    }
   ],
   "source": [
    "from sklearn.linear_model import LinearRegression\n",
    "from sklearn.metrics import r2_score\n",
    "model = LinearRegression()\n",
    "model.fit(X_train, y_train)\n",
    "y_pred = model.predict(X_test)\n",
    "r2 = r2_score(y_test, y_pred)\n",
    "print(f\"Test Seti R^2 Skoru: {r2}\")"
   ]
  },
  {
   "cell_type": "code",
   "execution_count": 57,
   "id": "7e2913ca",
   "metadata": {},
   "outputs": [
    {
     "name": "stdout",
     "output_type": "stream",
     "text": [
      "Test Seti R^2 Skoru: 0.8004908157076004\n"
     ]
    }
   ],
   "source": [
    "from sklearn.tree import DecisionTreeRegressor\n",
    "\n",
    "model = DecisionTreeRegressor()\n",
    "model.fit(X_train, y_train)\n",
    "y_pred = model.predict(X_test)\n",
    "r2 = r2_score(y_test, y_pred)\n",
    "print(f\"Test Seti R^2 Skoru: {r2}\")"
   ]
  },
  {
   "cell_type": "code",
   "execution_count": 58,
   "id": "922727a7",
   "metadata": {},
   "outputs": [
    {
     "name": "stdout",
     "output_type": "stream",
     "text": [
      "Test Seti R^2 Skoru: 0.8200613453857308\n"
     ]
    }
   ],
   "source": [
    "from sklearn.ensemble import RandomForestRegressor\n",
    "\n",
    "model = RandomForestRegressor()\n",
    "model.fit(X_train, y_train)\n",
    "y_pred = model.predict(X_test)\n",
    "r2 = r2_score(y_test, y_pred)\n",
    "print(f\"Test Seti R^2 Skoru: {r2}\")"
   ]
  },
  {
   "cell_type": "code",
   "execution_count": 59,
   "id": "1da7d406",
   "metadata": {},
   "outputs": [
    {
     "name": "stdout",
     "output_type": "stream",
     "text": [
      "Test Seti R^2 Skoru: 0.8194582162729733\n"
     ]
    }
   ],
   "source": [
    "from sklearn.ensemble import GradientBoostingRegressor\n",
    "\n",
    "model = GradientBoostingRegressor()\n",
    "model.fit(X_train, y_train)\n",
    "y_pred = model.predict(X_test)\n",
    "r2 = r2_score(y_test, y_pred)\n",
    "print(f\"Test Seti R^2 Skoru: {r2}\")"
   ]
  },
  {
   "cell_type": "code",
   "execution_count": 60,
   "id": "e23b8637",
   "metadata": {},
   "outputs": [
    {
     "name": "stdout",
     "output_type": "stream",
     "text": [
      "Test Seti R^2 Skoru: 0.807074013665617\n"
     ]
    }
   ],
   "source": [
    "from sklearn.neighbors import KNeighborsRegressor\n",
    "\n",
    "model = KNeighborsRegressor()\n",
    "model.fit(X_train, y_train)\n",
    "y_pred = model.predict(X_test)\n",
    "r2 = r2_score(y_test, y_pred)\n",
    "print(f\"Test Seti R^2 Skoru: {r2}\")"
   ]
  },
  {
   "cell_type": "code",
   "execution_count": 61,
   "id": "57459f7a",
   "metadata": {},
   "outputs": [
    {
     "name": "stdout",
     "output_type": "stream",
     "text": [
      "Test Seti R^2 Skoru: 0.8286331204068587\n"
     ]
    }
   ],
   "source": [
    "from xgboost import XGBRegressor\n",
    "\n",
    "model = XGBRegressor()\n",
    "model.fit(X_train, y_train)\n",
    "y_pred = model.predict(X_test)\n",
    "r2 = r2_score(y_test, y_pred)\n",
    "print(f\"Test Seti R^2 Skoru: {r2}\")"
   ]
  },
  {
   "cell_type": "code",
   "execution_count": 63,
   "id": "ac480abd",
   "metadata": {},
   "outputs": [],
   "source": [
    "import tkinter as tk\n",
    "from sklearn.preprocessing import MinMaxScaler\n",
    "import pandas as pd\n",
    "import joblib\n",
    "\n",
    "# Veri çerçevenizi burada tanımlayın\n",
    "# one-hot kodlanmış sütunlar daha önce oluşturulmuş olsun\n",
    "data = pd.DataFrame(columns=['Km', '_Yil', 'Güc', 'silindir_hacmi','Seri_A3',\n",
    "       'Seri_Dıger','Seri_Megane', 'Seri_Polo', 'Yakit_Benzin',\n",
    "       'Yakit_Benzin & LPG', 'Yakit_Dizel', 'Yakit_Dıger', 'Tipi_Manuel',\n",
    "       'Tipi_Otomatik', 'Tipi_Yarı Otomatik', 'beygir_gucu'])\n",
    "\n",
    "# Tkinter kullanıcı arayüzünü oluşturmak için bir sınıf tanımlayalım\n",
    "class GUI:\n",
    "    def __init__(self, root):\n",
    "        self.root = root\n",
    "        self.root.title(\"Araç Fiyat Tahmin Uygulaması\")\n",
    "        \n",
    "        # KM etiketi ve giriş kutusu\n",
    "        self.km_label = tk.Label(root, text=\"Kilometre Bilgisi (KM):\")\n",
    "        self.km_label.pack()\n",
    "        self.km_entry = tk.Entry(root)\n",
    "        self.km_entry.pack()\n",
    "        \n",
    "        # Yıl etiketi ve giriş kutusu\n",
    "        self.yil_model_label = tk.Label(root, text=\"Araç Yılı:\")\n",
    "        self.yil_model_label.pack()\n",
    "        self.yil_model_entry = tk.Entry(root)\n",
    "        self.yil_model_entry.pack()\n",
    "        \n",
    "        # Motor gücü etiketi ve giriş kutusu\n",
    "        self.motor_gucu_label = tk.Label(root, text=\"Motor Gücü (Beygir HP):\")\n",
    "        self.motor_gucu_label.pack()\n",
    "        self.motor_gucu_entry = tk.Entry(root)\n",
    "        self.motor_gucu_entry.pack()\n",
    "        \n",
    "        # Silindir hacmi etiketi ve giriş kutusu\n",
    "        self.silindir_hacmi_label = tk.Label(root, text=\"Silindir Hacmi (cc):\")\n",
    "        self.silindir_hacmi_label.pack()\n",
    "        self.silindir_hacmi_entry = tk.Entry(root)\n",
    "        self.silindir_hacmi_entry.pack()\n",
    "\n",
    "        # Araç model seçenekleri\n",
    "        self.model_label = tk.Label(root, text=\"Araç Modeli:\")\n",
    "        self.model_label.pack()\n",
    "        self.model_var = tk.StringVar()\n",
    "        self.model_var.set(\"Seri_A3\")\n",
    "        self.model_A3_radio = tk.Radiobutton(root, text=\"Audi A3\", variable=self.model_var, value=\"Seri_A3\")\n",
    "        self.model_A3_radio.pack()\n",
    "        self.model_Megane_radio = tk.Radiobutton(root, text=\"Renault Megane\", variable=self.model_var, value=\"Seri_Megane\")\n",
    "        self.model_Megane_radio.pack()\n",
    "        self.model_Polo_radio = tk.Radiobutton(root, text=\"Volkswagen Polo\", variable=self.model_var, value=\"Seri_Polo\")\n",
    "        self.model_Polo_radio.pack()\n",
    "        self.model_Dıger_radio = tk.Radiobutton(root, text=\"Diğer\", variable=self.model_var, value=\"Seri_Dıger\")\n",
    "        self.model_Dıger_radio.pack()\n",
    "        \n",
    "        # Yakıt türü seçenekleri\n",
    "        self.yakit_turu_label = tk.Label(root, text=\"Yakıt Türü:\")\n",
    "        self.yakit_turu_label.pack()\n",
    "        self.yakit_turu_var = tk.StringVar()\n",
    "        self.yakit_turu_var.set(\"Yakit_Benzin\")\n",
    "        self.yakit_turu_Benzin_radio = tk.Radiobutton(root, text=\"Benzin\", variable=self.yakit_turu_var, value=\"Yakit_Benzin\")\n",
    "        self.yakit_turu_Benzin_radio.pack()\n",
    "        self.yakit_turu_Benzin_LPG_radio = tk.Radiobutton(root, text=\"Benzin & LPG\", variable=self.yakit_turu_var, value=\"Yakit_Benzin & LPG\")\n",
    "        self.yakit_turu_Benzin_LPG_radio.pack()\n",
    "        self.yakit_turu_Dizel_radio = tk.Radiobutton(root, text=\"Dizel\", variable=self.yakit_turu_var, value=\"Yakit_Dizel\")\n",
    "        self.yakit_turu_Dizel_radio.pack()\n",
    "        self.yakit_turu_Dıger_radio = tk.Radiobutton(root, text=\"Diğer\", variable=self.yakit_turu_var, value=\"Yakit_Dıger\")\n",
    "        self.yakit_turu_Dıger_radio.pack()\n",
    "        \n",
    "        # Vites türü seçenekleri\n",
    "        self.vites_turu_label = tk.Label(root, text=\"Vites Türü:\")\n",
    "        self.vites_turu_label.pack()\n",
    "        self.vites_turu_var = tk.StringVar()\n",
    "        self.vites_turu_var.set(\"Tipi_Manuel\")\n",
    "        self.vites_turu_manuel_radio = tk.Radiobutton(root, text=\"Manuel\", variable=self.vites_turu_var, value=\"Tipi_Manuel\")\n",
    "        self.vites_turu_manuel_radio.pack()\n",
    "        self.vites_turu_otomatik_radio = tk.Radiobutton(root, text=\"Otomatik\", variable=self.vites_turu_var, value=\"Tipi_Otomatik\")\n",
    "        self.vites_turu_otomatik_radio.pack()\n",
    "        self.vites_turu_yari_otomatik_radio = tk.Radiobutton(root, text=\"Yarı Otomatik\", variable=self.vites_turu_var, value=\"Tipi_Yarı Otomatik\")\n",
    "        self.vites_turu_yari_otomatik_radio.pack()\n",
    "\n",
    "        # Tahmin düğmesi\n",
    "        self.predict_button = tk.Button(root, text=\"Fiyat Tahmini Yap\", command=self.predict)\n",
    "        self.predict_button.pack()\n",
    "\n",
    "        # Tahmin sonucunu göstermek için bir etiket\n",
    "        self.result_label = tk.Label(root, text=\"\")\n",
    "        self.result_label.pack()\n",
    "\n",
    "    def predict(self):\n",
    "        # Kullanıcının girdilerini alın\n",
    "        km = float(self.km_entry.get())\n",
    "        yil_model = float(self.yil_model_entry.get())\n",
    "        motor_gucu = float(self.motor_gucu_entry.get())\n",
    "        silindir_hacmi = float(self.silindir_hacmi_entry.get())\n",
    "        beygir_gucu=float(motor_gucu/silindir_hacmi)\n",
    "        \n",
    "        modell = self.model_var.get()\n",
    "        yakit_turu = self.yakit_turu_var.get()\n",
    "        vites_turu = self.vites_turu_var.get()\n",
    "\n",
    "        data[\"Km\"] = [km]\n",
    "        data[\"_Yil\"] = [yil_model]\n",
    "        data[\"Güc\"] = [motor_gucu]\n",
    "        data[\"beygir_gucu\"] = [beygir_gucu]\n",
    "        data[\"silindir_hacmi\"] = [silindir_hacmi]\n",
    "        \n",
    "        data[\"Seri_A3\"] = [1 if modell == \"Seri_A3\" else 0]\n",
    "        data[\"Seri_Dıger\"] = [1 if modell == \"Seri_Dıger\" else 0]\n",
    "        data[\"Seri_Megane\"] = [1 if modell == \"Seri_Megane\" else 0]\n",
    "        data[\"Seri_Polo\"] = [1 if modell == \"Seri_Polo\" else 0]\n",
    "        \n",
    "        data[\"Yakit_Benzin\"] = [1 if yakit_turu == \"Yakit_Benzin\" else 0]\n",
    "        data[\"Yakit_Benzin & LPG\"] = [1 if yakit_turu == \"Yakit_Benzin & LPG\" else 0]\n",
    "        data[\"Yakit_Dizel\"] = [1 if yakit_turu == \"Yakit_Dizel\" else 0]\n",
    "        \n",
    "        data[\"Tipi_Manuel\"] = [1 if vites_turu == \"Tipi_Manuel\" else 0]\n",
    "        data[\"Tipi_Otomatik\"] = [1 if vites_turu == \"Tipi_Otomatik\" else 0]\n",
    "\n",
    "        # Verileri ölçeklendirin\n",
    "        scaled_data = scaler.transform(data.values)\n",
    "        \n",
    "        # Tahmin yapın\n",
    "        prediction = model.predict(scaled_data)\n",
    "\n",
    "        # Tahmin sonucunu gösterin\n",
    "        self.result_label.config(text=f\"Fiyat Tahmini: {prediction[0]:,.2f} TL\")\n",
    "\n",
    "# Tkinter uygulamasını başlatın\n",
    "root = tk.Tk()\n",
    "app = GUI(root)\n",
    "root.mainloop()\n"
   ]
  },
  {
   "cell_type": "code",
   "execution_count": null,
   "id": "446b90a4",
   "metadata": {},
   "outputs": [],
   "source": []
  }
 ],
 "metadata": {
  "kernelspec": {
   "display_name": "Python 3 (ipykernel)",
   "language": "python",
   "name": "python3"
  },
  "language_info": {
   "codemirror_mode": {
    "name": "ipython",
    "version": 3
   },
   "file_extension": ".py",
   "mimetype": "text/x-python",
   "name": "python",
   "nbconvert_exporter": "python",
   "pygments_lexer": "ipython3",
   "version": "3.12.4"
  }
 },
 "nbformat": 4,
 "nbformat_minor": 5
}
